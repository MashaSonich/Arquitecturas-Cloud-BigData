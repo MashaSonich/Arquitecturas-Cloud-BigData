{
  "cells": [
    {
      "cell_type": "markdown",
      "metadata": {
        "id": "G0LOaPyAgCU8"
      },
      "source": [
        "#  RDDs"
      ]
    },
    {
      "cell_type": "markdown",
      "metadata": {
        "id": "yxqIrsY-gCVB"
      },
      "source": [
        "# Creamos un contexto para crear RDDs"
      ]
    },
    {
      "cell_type": "code",
      "execution_count": 1,
      "metadata": {
        "id": "T3SkkrkIgCVD"
      },
      "outputs": [],
      "source": [
        "!pip install pyspark --quiet\n",
        "from pyspark import SparkContext"
      ]
    },
    {
      "cell_type": "code",
      "execution_count": 2,
      "metadata": {
        "id": "_X-TkHs-gCVE"
      },
      "outputs": [],
      "source": [
        "sc = SparkContext(master = \"local\", appName=\"TransformacionesyAcciones\")"
      ]
    },
    {
      "cell_type": "markdown",
      "metadata": {
        "id": "oYNeSv5EgCVF"
      },
      "source": [
        "# Un RDD es una colección inmutable y distribuida de elementos\n",
        "\n",
        "### Spark automaticamente distribuye los datos y paraleliza las operaciones\n",
        "\n",
        "### Los RDD realmente cargan colecciones de datos"
      ]
    },
    {
      "cell_type": "code",
      "execution_count": 3,
      "metadata": {
        "id": "-yfNRIqPgCVF"
      },
      "outputs": [],
      "source": [
        "rdd1 = sc.parallelize([1,2,3])"
      ]
    },
    {
      "cell_type": "markdown",
      "metadata": {
        "id": "7daw3WsugCVF"
      },
      "source": [
        "### Debido a la propiedad de distribución que tienen los RDD, en su creación, podemos particionar los datos"
      ]
    },
    {
      "cell_type": "code",
      "execution_count": 4,
      "metadata": {
        "id": "gV_9CtH-gCVG"
      },
      "outputs": [],
      "source": [
        "import numpy as np\n",
        "rdd2 = sc.parallelize(np.array(range(100)),2)"
      ]
    },
    {
      "cell_type": "markdown",
      "metadata": {
        "id": "OXf9xyz4gCVG"
      },
      "source": [
        "### Verificamos el tipo de dato"
      ]
    },
    {
      "cell_type": "code",
      "execution_count": 5,
      "metadata": {
        "id": "-6IXNzw2gCVG",
        "colab": {
          "base_uri": "https://localhost:8080/"
        },
        "outputId": "e371b68f-fa2d-4691-cfbc-65b16406f241"
      },
      "outputs": [
        {
          "output_type": "execute_result",
          "data": {
            "text/plain": [
              "pyspark.rdd.RDD"
            ]
          },
          "metadata": {},
          "execution_count": 5
        }
      ],
      "source": [
        "type(rdd1)"
      ]
    },
    {
      "cell_type": "markdown",
      "metadata": {
        "id": "M9fdoJ87gCVG"
      },
      "source": [
        "### Vemos el contenido\n",
        "\n",
        "Veremos distintas tecnicas apropiadas para ver el contenido de los RDDs y Dataframes"
      ]
    },
    {
      "cell_type": "code",
      "execution_count": 6,
      "metadata": {
        "id": "QzqUUjhCgCVH",
        "colab": {
          "base_uri": "https://localhost:8080/"
        },
        "outputId": "439fa0cc-0f5e-40a7-f761-89674e798447"
      },
      "outputs": [
        {
          "output_type": "execute_result",
          "data": {
            "text/plain": [
              "[1, 2, 3]"
            ]
          },
          "metadata": {},
          "execution_count": 6
        }
      ],
      "source": [
        "rdd1.collect()"
      ]
    },
    {
      "cell_type": "markdown",
      "metadata": {
        "id": "cvXwqRwdgCVH"
      },
      "source": [
        "# Carga de un arhivo CSV"
      ]
    },
    {
      "cell_type": "markdown",
      "metadata": {
        "id": "OfQ67xw1gCVI"
      },
      "source": [
        "### Cargamos un RDDs\n",
        "\n",
        "El método textFile busca el archivo en la ruta indicada\n",
        "\n",
        "Cambia el valor de la ruta para que apunte a la ruta donde tienes los datos"
      ]
    },
    {
      "cell_type": "code",
      "execution_count": 7,
      "metadata": {
        "id": "9AG-1zOcgCVI",
        "colab": {
          "base_uri": "https://localhost:8080/"
        },
        "outputId": "9a2c53b6-bc07-49ef-9137-ba864140ba05"
      },
      "outputs": [
        {
          "output_type": "stream",
          "name": "stdout",
          "text": [
            "Drive already mounted at /content/drive/; to attempt to forcibly remount, call drive.mount(\"/content/drive/\", force_remount=True).\n"
          ]
        }
      ],
      "source": [
        "from google.colab import drive\n",
        "drive.mount('/content/drive/')\n",
        "\n",
        "equiposOlimpicosRDD = sc.textFile(\"/content/drive/MyDrive/BigData/Entornos Cloud Week6/paises.csv\",2).map(lambda line : line.split(\",\"))"
      ]
    },
    {
      "cell_type": "code",
      "source": [
        "from google.colab import drive\n",
        "drive.mount('/content/drive')"
      ],
      "metadata": {
        "colab": {
          "base_uri": "https://localhost:8080/"
        },
        "id": "FmiK6ZR7Nx4v",
        "outputId": "53c2612c-7620-4942-de2b-7841af0bcefd"
      },
      "execution_count": 8,
      "outputs": [
        {
          "output_type": "stream",
          "name": "stdout",
          "text": [
            "Drive already mounted at /content/drive; to attempt to forcibly remount, call drive.mount(\"/content/drive\", force_remount=True).\n"
          ]
        }
      ]
    },
    {
      "cell_type": "markdown",
      "metadata": {
        "id": "FGKXqN4sgCVI"
      },
      "source": [
        "### Vemos el contenido\n",
        "\n",
        "El método take es otro método existnte para poder visualizar el contenido de los RDDs"
      ]
    },
    {
      "cell_type": "code",
      "execution_count": 9,
      "metadata": {
        "id": "HA3o7cq1gCVI",
        "colab": {
          "base_uri": "https://localhost:8080/"
        },
        "outputId": "86061559-970f-407c-d15a-7eb358ddd3b5"
      },
      "outputs": [
        {
          "output_type": "execute_result",
          "data": {
            "text/plain": [
              "[['id', 'equipo', 'sigla'],\n",
              " ['1', '30. Februar', 'AUT'],\n",
              " ['2', 'A North American Team', 'MEX'],\n",
              " ['3', 'Acipactli', 'MEX'],\n",
              " ['4', 'Acturus', 'ARG'],\n",
              " ['5', 'Afghanistan', 'AFG'],\n",
              " ['6', 'Akatonbo', 'IRL'],\n",
              " ['7', 'Alain IV', 'SUI'],\n",
              " ['8', 'Albania', 'ALB'],\n",
              " ['9', 'Alcaid', 'POR']]"
            ]
          },
          "metadata": {},
          "execution_count": 9
        }
      ],
      "source": [
        "equiposOlimpicosRDD.take(10) #MOSTRA LAS 10 PRIMERAS"
      ]
    },
    {
      "cell_type": "code",
      "execution_count": 10,
      "metadata": {
        "id": "LfOUKBkvgCVJ"
      },
      "outputs": [],
      "source": [
        "sc.stop()"
      ]
    },
    {
      "cell_type": "markdown",
      "source": [
        "## Ejercicio:\n",
        "\n",
        "Intenta leer un archivo csv o de texto y hacer alguna transformación.\n",
        "\n",
        "* Busca el archivo del quijote.txt por internet.\n",
        "* Subelo a Google COlab e importalo con pyspark.\n",
        "* Cuenta los caracteres del fichero."
      ],
      "metadata": {
        "id": "a0DSWeq2xcEH"
      }
    },
    {
      "cell_type": "markdown",
      "source": [],
      "metadata": {
        "id": "4a7wpqooCS5l"
      }
    },
    {
      "cell_type": "code",
      "source": [
        "from pyspark import SparkContext"
      ],
      "metadata": {
        "id": "7TArpGKQTTv2"
      },
      "execution_count": 13,
      "outputs": []
    },
    {
      "cell_type": "code",
      "source": [
        "sc = SparkContext(master = \"local\", appName=\"CuentaCaracteres\")"
      ],
      "metadata": {
        "id": "O68Z2dRJPqAh"
      },
      "execution_count": 14,
      "outputs": []
    },
    {
      "cell_type": "code",
      "source": [
        "quijoteRDD = sc.textFile(\"/content/drive/MyDrive/BigData/Entornos Cloud Week6/5545924-26e81ca759e27f97952d3d00d61e9a7285d0d545/quijote.txt\",2).map(lambda line : line.split(\",\"))"
      ],
      "metadata": {
        "id": "35t6N-uSQCSr"
      },
      "execution_count": 16,
      "outputs": []
    },
    {
      "cell_type": "code",
      "source": [
        "CuentaCaracteres = quijoteRDD.map(lambda line: len(line)).reduce(lambda x, y: x + y)"
      ],
      "metadata": {
        "id": "gP9XmkvWQbj8"
      },
      "execution_count": 17,
      "outputs": []
    },
    {
      "cell_type": "code",
      "source": [
        "print(\"Cantidad total de caracteres:\", CuentaCaracteres)"
      ],
      "metadata": {
        "colab": {
          "base_uri": "https://localhost:8080/"
        },
        "id": "gtT7o5lfRFn5",
        "outputId": "748d9767-789b-40aa-d50f-34ccdc8b713a"
      },
      "execution_count": 18,
      "outputs": [
        {
          "output_type": "stream",
          "name": "stdout",
          "text": [
            "Cantidad total de caracteres: 218\n"
          ]
        }
      ]
    }
  ],
  "metadata": {
    "kernelspec": {
      "display_name": "Python 3",
      "language": "python",
      "name": "python3"
    },
    "language_info": {
      "codemirror_mode": {
        "name": "ipython",
        "version": 3
      },
      "file_extension": ".py",
      "mimetype": "text/x-python",
      "name": "python",
      "nbconvert_exporter": "python",
      "pygments_lexer": "ipython3",
      "version": "3.8.5"
    },
    "colab": {
      "provenance": []
    }
  },
  "nbformat": 4,
  "nbformat_minor": 0
}